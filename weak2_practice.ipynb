{
  "nbformat": 4,
  "nbformat_minor": 0,
  "metadata": {
    "colab": {
      "name": "weak2_practice",
      "provenance": [],
      "collapsed_sections": [],
      "authorship_tag": "ABX9TyODEvAFv8mk/RL8g/pH8u+8",
      "include_colab_link": true
    },
    "kernelspec": {
      "name": "python3",
      "display_name": "Python 3"
    },
    "language_info": {
      "name": "python"
    }
  },
  "cells": [
    {
      "cell_type": "markdown",
      "metadata": {
        "id": "view-in-github",
        "colab_type": "text"
      },
      "source": [
        "<a href=\"https://colab.research.google.com/github/wonjae124/22_1-Comprehension-of-ML/blob/main/weak2_practice.ipynb\" target=\"_parent\"><img src=\"https://colab.research.google.com/assets/colab-badge.svg\" alt=\"Open In Colab\"/></a>"
      ]
    },
    {
      "cell_type": "code",
      "execution_count": null,
      "metadata": {
        "colab": {
          "base_uri": "https://localhost:8080/"
        },
        "id": "FxuMardjIHrQ",
        "outputId": "6815bac8-c675-47d4-f290-402eb40b86de"
      },
      "outputs": [
        {
          "output_type": "stream",
          "name": "stdout",
          "text": [
            "The Zen of Python, by Tim Peters\n",
            "\n",
            "Beautiful is better than ugly.\n",
            "Explicit is better than implicit.\n",
            "Simple is better than complex.\n",
            "Complex is better than complicated.\n",
            "Flat is better than nested.\n",
            "Sparse is better than dense.\n",
            "Readability counts.\n",
            "Special cases aren't special enough to break the rules.\n",
            "Although practicality beats purity.\n",
            "Errors should never pass silently.\n",
            "Unless explicitly silenced.\n",
            "In the face of ambiguity, refuse the temptation to guess.\n",
            "There should be one-- and preferably only one --obvious way to do it.\n",
            "Although that way may not be obvious at first unless you're Dutch.\n",
            "Now is better than never.\n",
            "Although never is often better than *right* now.\n",
            "If the implementation is hard to explain, it's a bad idea.\n",
            "If the implementation is easy to explain, it may be a good idea.\n",
            "Namespaces are one honking great idea -- let's do more of those!\n"
          ]
        }
      ],
      "source": [
        "import this"
      ]
    },
    {
      "cell_type": "code",
      "source": [
        "print(\"hello, world!\")"
      ],
      "metadata": {
        "id": "GKkx9C4wIZ3x",
        "outputId": "36dc63be-9a8e-4241-fbff-779131cd743a",
        "colab": {
          "base_uri": "https://localhost:8080/"
        }
      },
      "execution_count": null,
      "outputs": [
        {
          "output_type": "stream",
          "name": "stdout",
          "text": [
            "hello, world!\n"
          ]
        }
      ]
    },
    {
      "cell_type": "markdown",
      "source": [
        "# 마크 다운 문법\n",
        "\n",
        "# 큰 제목\n",
        "## 중간 제목\n",
        "### 작은 제목\n",
        "\n"
      ],
      "metadata": {
        "id": "xreOUX7kKiWw"
      }
    },
    {
      "cell_type": "markdown",
      "source": [
        "# 목록\n",
        "* 별표는 번호 없는 목록\n",
        "* 별표 후 꼭 띄우기\n",
        "\n",
        "1. 번호 있는 목록 \n",
        "2. 번호는 직접 입력"
      ],
      "metadata": {
        "id": "HRewPwOUKxGd"
      }
    },
    {
      "cell_type": "code",
      "source": [
        "10+20"
      ],
      "metadata": {
        "colab": {
          "base_uri": "https://localhost:8080/"
        },
        "id": "BM0qZ2pdKg7E",
        "outputId": "78da3fcf-4fdd-465c-cb8e-aec34937f7be"
      },
      "execution_count": null,
      "outputs": [
        {
          "output_type": "execute_result",
          "data": {
            "text/plain": [
              "30"
            ]
          },
          "metadata": {},
          "execution_count": 23
        }
      ]
    },
    {
      "cell_type": "code",
      "source": [
        "a = 10 + 20"
      ],
      "metadata": {
        "id": "4YhpGm7AMJGA"
      },
      "execution_count": null,
      "outputs": []
    },
    {
      "cell_type": "code",
      "source": [
        "print(a)"
      ],
      "metadata": {
        "colab": {
          "base_uri": "https://localhost:8080/"
        },
        "id": "VEVfLFjiMLgf",
        "outputId": "50a33e80-87e8-4ccd-e818-2332d0bdc12b"
      },
      "execution_count": null,
      "outputs": [
        {
          "output_type": "stream",
          "name": "stdout",
          "text": [
            "30\n"
          ]
        }
      ]
    },
    {
      "cell_type": "code",
      "source": [
        "#엑샐 불러오기 pandas.read_csv('파일경로')\n",
        "import pandas as pd\n",
        "c = pd.read_csv('/content/drive/MyDrive/Colab Notebooks/머신러닝의 이해/iris.csv')\n",
        "c"
      ],
      "metadata": {
        "colab": {
          "base_uri": "https://localhost:8080/",
          "height": 423
        },
        "id": "oIY97A6_MMCg",
        "outputId": "bd7f44f7-7122-48ac-a5c7-36c9676ef238"
      },
      "execution_count": null,
      "outputs": [
        {
          "output_type": "execute_result",
          "data": {
            "text/html": [
              "\n",
              "  <div id=\"df-3b5d7734-83cb-4ae2-925e-9790acda107a\">\n",
              "    <div class=\"colab-df-container\">\n",
              "      <div>\n",
              "<style scoped>\n",
              "    .dataframe tbody tr th:only-of-type {\n",
              "        vertical-align: middle;\n",
              "    }\n",
              "\n",
              "    .dataframe tbody tr th {\n",
              "        vertical-align: top;\n",
              "    }\n",
              "\n",
              "    .dataframe thead th {\n",
              "        text-align: right;\n",
              "    }\n",
              "</style>\n",
              "<table border=\"1\" class=\"dataframe\">\n",
              "  <thead>\n",
              "    <tr style=\"text-align: right;\">\n",
              "      <th></th>\n",
              "      <th>sepal.length</th>\n",
              "      <th>sepal.width</th>\n",
              "      <th>petal.length</th>\n",
              "      <th>petal.width</th>\n",
              "      <th>variety</th>\n",
              "    </tr>\n",
              "  </thead>\n",
              "  <tbody>\n",
              "    <tr>\n",
              "      <th>0</th>\n",
              "      <td>5.1</td>\n",
              "      <td>3.5</td>\n",
              "      <td>1.4</td>\n",
              "      <td>0.2</td>\n",
              "      <td>Setosa</td>\n",
              "    </tr>\n",
              "    <tr>\n",
              "      <th>1</th>\n",
              "      <td>4.9</td>\n",
              "      <td>3.0</td>\n",
              "      <td>1.4</td>\n",
              "      <td>0.2</td>\n",
              "      <td>Setosa</td>\n",
              "    </tr>\n",
              "    <tr>\n",
              "      <th>2</th>\n",
              "      <td>4.7</td>\n",
              "      <td>3.2</td>\n",
              "      <td>1.3</td>\n",
              "      <td>0.2</td>\n",
              "      <td>Setosa</td>\n",
              "    </tr>\n",
              "    <tr>\n",
              "      <th>3</th>\n",
              "      <td>4.6</td>\n",
              "      <td>3.1</td>\n",
              "      <td>1.5</td>\n",
              "      <td>0.2</td>\n",
              "      <td>Setosa</td>\n",
              "    </tr>\n",
              "    <tr>\n",
              "      <th>4</th>\n",
              "      <td>5.0</td>\n",
              "      <td>3.6</td>\n",
              "      <td>1.4</td>\n",
              "      <td>0.2</td>\n",
              "      <td>Setosa</td>\n",
              "    </tr>\n",
              "    <tr>\n",
              "      <th>...</th>\n",
              "      <td>...</td>\n",
              "      <td>...</td>\n",
              "      <td>...</td>\n",
              "      <td>...</td>\n",
              "      <td>...</td>\n",
              "    </tr>\n",
              "    <tr>\n",
              "      <th>145</th>\n",
              "      <td>6.7</td>\n",
              "      <td>3.0</td>\n",
              "      <td>5.2</td>\n",
              "      <td>2.3</td>\n",
              "      <td>Virginica</td>\n",
              "    </tr>\n",
              "    <tr>\n",
              "      <th>146</th>\n",
              "      <td>6.3</td>\n",
              "      <td>2.5</td>\n",
              "      <td>5.0</td>\n",
              "      <td>1.9</td>\n",
              "      <td>Virginica</td>\n",
              "    </tr>\n",
              "    <tr>\n",
              "      <th>147</th>\n",
              "      <td>6.5</td>\n",
              "      <td>3.0</td>\n",
              "      <td>5.2</td>\n",
              "      <td>2.0</td>\n",
              "      <td>Virginica</td>\n",
              "    </tr>\n",
              "    <tr>\n",
              "      <th>148</th>\n",
              "      <td>6.2</td>\n",
              "      <td>3.4</td>\n",
              "      <td>5.4</td>\n",
              "      <td>2.3</td>\n",
              "      <td>Virginica</td>\n",
              "    </tr>\n",
              "    <tr>\n",
              "      <th>149</th>\n",
              "      <td>5.9</td>\n",
              "      <td>3.0</td>\n",
              "      <td>5.1</td>\n",
              "      <td>1.8</td>\n",
              "      <td>Virginica</td>\n",
              "    </tr>\n",
              "  </tbody>\n",
              "</table>\n",
              "<p>150 rows × 5 columns</p>\n",
              "</div>\n",
              "      <button class=\"colab-df-convert\" onclick=\"convertToInteractive('df-3b5d7734-83cb-4ae2-925e-9790acda107a')\"\n",
              "              title=\"Convert this dataframe to an interactive table.\"\n",
              "              style=\"display:none;\">\n",
              "        \n",
              "  <svg xmlns=\"http://www.w3.org/2000/svg\" height=\"24px\"viewBox=\"0 0 24 24\"\n",
              "       width=\"24px\">\n",
              "    <path d=\"M0 0h24v24H0V0z\" fill=\"none\"/>\n",
              "    <path d=\"M18.56 5.44l.94 2.06.94-2.06 2.06-.94-2.06-.94-.94-2.06-.94 2.06-2.06.94zm-11 1L8.5 8.5l.94-2.06 2.06-.94-2.06-.94L8.5 2.5l-.94 2.06-2.06.94zm10 10l.94 2.06.94-2.06 2.06-.94-2.06-.94-.94-2.06-.94 2.06-2.06.94z\"/><path d=\"M17.41 7.96l-1.37-1.37c-.4-.4-.92-.59-1.43-.59-.52 0-1.04.2-1.43.59L10.3 9.45l-7.72 7.72c-.78.78-.78 2.05 0 2.83L4 21.41c.39.39.9.59 1.41.59.51 0 1.02-.2 1.41-.59l7.78-7.78 2.81-2.81c.8-.78.8-2.07 0-2.86zM5.41 20L4 18.59l7.72-7.72 1.47 1.35L5.41 20z\"/>\n",
              "  </svg>\n",
              "      </button>\n",
              "      \n",
              "  <style>\n",
              "    .colab-df-container {\n",
              "      display:flex;\n",
              "      flex-wrap:wrap;\n",
              "      gap: 12px;\n",
              "    }\n",
              "\n",
              "    .colab-df-convert {\n",
              "      background-color: #E8F0FE;\n",
              "      border: none;\n",
              "      border-radius: 50%;\n",
              "      cursor: pointer;\n",
              "      display: none;\n",
              "      fill: #1967D2;\n",
              "      height: 32px;\n",
              "      padding: 0 0 0 0;\n",
              "      width: 32px;\n",
              "    }\n",
              "\n",
              "    .colab-df-convert:hover {\n",
              "      background-color: #E2EBFA;\n",
              "      box-shadow: 0px 1px 2px rgba(60, 64, 67, 0.3), 0px 1px 3px 1px rgba(60, 64, 67, 0.15);\n",
              "      fill: #174EA6;\n",
              "    }\n",
              "\n",
              "    [theme=dark] .colab-df-convert {\n",
              "      background-color: #3B4455;\n",
              "      fill: #D2E3FC;\n",
              "    }\n",
              "\n",
              "    [theme=dark] .colab-df-convert:hover {\n",
              "      background-color: #434B5C;\n",
              "      box-shadow: 0px 1px 3px 1px rgba(0, 0, 0, 0.15);\n",
              "      filter: drop-shadow(0px 1px 2px rgba(0, 0, 0, 0.3));\n",
              "      fill: #FFFFFF;\n",
              "    }\n",
              "  </style>\n",
              "\n",
              "      <script>\n",
              "        const buttonEl =\n",
              "          document.querySelector('#df-3b5d7734-83cb-4ae2-925e-9790acda107a button.colab-df-convert');\n",
              "        buttonEl.style.display =\n",
              "          google.colab.kernel.accessAllowed ? 'block' : 'none';\n",
              "\n",
              "        async function convertToInteractive(key) {\n",
              "          const element = document.querySelector('#df-3b5d7734-83cb-4ae2-925e-9790acda107a');\n",
              "          const dataTable =\n",
              "            await google.colab.kernel.invokeFunction('convertToInteractive',\n",
              "                                                     [key], {});\n",
              "          if (!dataTable) return;\n",
              "\n",
              "          const docLinkHtml = 'Like what you see? Visit the ' +\n",
              "            '<a target=\"_blank\" href=https://colab.research.google.com/notebooks/data_table.ipynb>data table notebook</a>'\n",
              "            + ' to learn more about interactive tables.';\n",
              "          element.innerHTML = '';\n",
              "          dataTable['output_type'] = 'display_data';\n",
              "          await google.colab.output.renderOutput(dataTable, element);\n",
              "          const docLink = document.createElement('div');\n",
              "          docLink.innerHTML = docLinkHtml;\n",
              "          element.appendChild(docLink);\n",
              "        }\n",
              "      </script>\n",
              "    </div>\n",
              "  </div>\n",
              "  "
            ],
            "text/plain": [
              "     sepal.length  sepal.width  petal.length  petal.width    variety\n",
              "0             5.1          3.5           1.4          0.2     Setosa\n",
              "1             4.9          3.0           1.4          0.2     Setosa\n",
              "2             4.7          3.2           1.3          0.2     Setosa\n",
              "3             4.6          3.1           1.5          0.2     Setosa\n",
              "4             5.0          3.6           1.4          0.2     Setosa\n",
              "..            ...          ...           ...          ...        ...\n",
              "145           6.7          3.0           5.2          2.3  Virginica\n",
              "146           6.3          2.5           5.0          1.9  Virginica\n",
              "147           6.5          3.0           5.2          2.0  Virginica\n",
              "148           6.2          3.4           5.4          2.3  Virginica\n",
              "149           5.9          3.0           5.1          1.8  Virginica\n",
              "\n",
              "[150 rows x 5 columns]"
            ]
          },
          "metadata": {},
          "execution_count": 26
        }
      ]
    },
    {
      "cell_type": "code",
      "source": [
        ""
      ],
      "metadata": {
        "id": "wkrtr2a6PgXH"
      },
      "execution_count": null,
      "outputs": []
    },
    {
      "cell_type": "markdown",
      "source": [
        "## 함수의 네임스페이스\n",
        "\n",
        "https://wikidocs.net/23109"
      ],
      "metadata": {
        "id": "X3MEB3TcPchv"
      }
    },
    {
      "cell_type": "code",
      "source": [
        "a = 3\n",
        "print(globals())"
      ],
      "metadata": {
        "colab": {
          "base_uri": "https://localhost:8080/"
        },
        "id": "C2awxkkKMvjj",
        "outputId": "2cd2426b-ea84-4d9b-9af5-9c957253aabd"
      },
      "execution_count": null,
      "outputs": [
        {
          "output_type": "stream",
          "name": "stdout",
          "text": [
            "{'__name__': '__main__', '__doc__': 'Automatically created module for IPython interactive environment', '__package__': None, '__loader__': None, '__spec__': None, '__builtin__': <module 'builtins' (built-in)>, '__builtins__': <module 'builtins' (built-in)>, '_ih': ['', 'a = 3\\nprint(globals())', 'a = 3\\nprint(globals())', \"def func():\\n    a = 100\\n    b = 'python'\\n\\nfunc()\\nprint(globals())\", \"def func():\\n    a = 100\\n    b = 'python'\\n\\nfunc()\\nprint(globals())\\n# 함수는 함수만의 별도 namespacae를 가진다.\", \"a = 3\\nc = 'Hello'\\n\\ndef func():\\n    a = 100\\n    b = 'python'\\n    print('함수 내부 namespace', locals())\\n\\nfunc()\", \"a = 3\\nc = 'Hello'\\n\\ndef func():\\n    a = 100\\n    b = 'python'\\n    print('함수 내부 namespace', locals())\\n\\n#함수 내 변수명과 할당 된 값을 딕셔너리 형태로 연결되어 있음.(key, value) \\n\\nfunc()\", 'import keyword\\nkeyword.kwlist', 'False = \\n#지정단어를 변수로 사용하고자 할 때, 파란글씨로 나오므로 주의하자. ', 'False = 1\\n#지정단어를 변수로 사용하고자 할 때, 파란글씨로 나오므로 주의하자. ', \"a = 3\\nc = 'Hello'\\n\\ndef func():\\n    a = 100\\n    b = 'python'\\n    print('외부 함수 내부 namespace', locals())\\n    def inner_func():\\n        print('내부 함수 내부 namespace', locals())\\n    inner_func()\\n\\nfunc()\", \"a = 3\\nc = 'Hello'\\n\\ndef func():\\n    a = 100\\n    b = 'python'\\n    print('외부 함수 내부 namespace', locals())\\n    def inner_func():\\n        print('내부 함수 내부 namespace', locals())\\n    inner_func()\\n\\nfunc()\\n# 함수 안의 함수도 아예 다른 namespace를 가지고 있다.\", 'def func():\\n    a = 3\\n\\nprint(a)', 'def func():\\n    k = 3\\n\\nprint(k)', 'def func():\\n    k = 3\\n\\nprint(k)\\n# local 네임스페이스를 global에서 참조할 수 없다.', \"p = 100\\n\\ndef func():\\n    def inner():\\n        b = 'python'\\n    inner()\\n    print(a)\\n    print(b)\\n\\nfunc()\", \"p = 100\\n\\ndef func():\\n    def inner():\\n        b = 'python'\\n    inner()\\n    print(p)\\n    print(b)\\n\\nfunc()\", 'number_1, number_2 = 1', \"a = 'fastcampus'\\n\\ndef func1():\\n    b = 'python'\\n    def func2():\\n        print(a)\\n        print(b)\\n    func2()\\n\\nfunc1()\", \"a = 'fastcampus' #함수는 상위함수, globals의 namespace 참조 가능\\n\\ndef func1():\\n    b = 'python'\\n    def func2():\\n        print(a)\\n        print(b)\\n    func2()\\n\\nfunc1()\", \"a = 'python'\\n\\ndef func():\\n    a = 3\\n\\nfunc()\\n\\nprint(a)\", 'import this', 'print(\"hello, world!\")', '10+20', 'a = 10 + 20', 'print(a)', \"#엑샐 불러오기 pandas.read_csv('파일경로')\\nimport pandas as pd\\nc = pd.read_csv('/content/drive/MyDrive/Colab Notebooks/머신러닝의 이해/iris.csv')\\nc\", 'a = 3\\nprint(globals())'], '_oh': {7: ['False', 'None', 'True', 'and', 'as', 'assert', 'async', 'await', 'break', 'class', 'continue', 'def', 'del', 'elif', 'else', 'except', 'finally', 'for', 'from', 'global', 'if', 'import', 'in', 'is', 'lambda', 'nonlocal', 'not', 'or', 'pass', 'raise', 'return', 'try', 'while', 'with', 'yield'], 23: 30, 26:      sepal.length  sepal.width  petal.length  petal.width    variety\n",
            "0             5.1          3.5           1.4          0.2     Setosa\n",
            "1             4.9          3.0           1.4          0.2     Setosa\n",
            "2             4.7          3.2           1.3          0.2     Setosa\n",
            "3             4.6          3.1           1.5          0.2     Setosa\n",
            "4             5.0          3.6           1.4          0.2     Setosa\n",
            "..            ...          ...           ...          ...        ...\n",
            "145           6.7          3.0           5.2          2.3  Virginica\n",
            "146           6.3          2.5           5.0          1.9  Virginica\n",
            "147           6.5          3.0           5.2          2.0  Virginica\n",
            "148           6.2          3.4           5.4          2.3  Virginica\n",
            "149           5.9          3.0           5.1          1.8  Virginica\n",
            "\n",
            "[150 rows x 5 columns]}, '_dh': ['/content'], '_sh': <module 'IPython.core.shadowns' from '/usr/local/lib/python3.7/dist-packages/IPython/core/shadowns.py'>, 'In': ['', 'a = 3\\nprint(globals())', 'a = 3\\nprint(globals())', \"def func():\\n    a = 100\\n    b = 'python'\\n\\nfunc()\\nprint(globals())\", \"def func():\\n    a = 100\\n    b = 'python'\\n\\nfunc()\\nprint(globals())\\n# 함수는 함수만의 별도 namespacae를 가진다.\", \"a = 3\\nc = 'Hello'\\n\\ndef func():\\n    a = 100\\n    b = 'python'\\n    print('함수 내부 namespace', locals())\\n\\nfunc()\", \"a = 3\\nc = 'Hello'\\n\\ndef func():\\n    a = 100\\n    b = 'python'\\n    print('함수 내부 namespace', locals())\\n\\n#함수 내 변수명과 할당 된 값을 딕셔너리 형태로 연결되어 있음.(key, value) \\n\\nfunc()\", 'import keyword\\nkeyword.kwlist', 'False = \\n#지정단어를 변수로 사용하고자 할 때, 파란글씨로 나오므로 주의하자. ', 'False = 1\\n#지정단어를 변수로 사용하고자 할 때, 파란글씨로 나오므로 주의하자. ', \"a = 3\\nc = 'Hello'\\n\\ndef func():\\n    a = 100\\n    b = 'python'\\n    print('외부 함수 내부 namespace', locals())\\n    def inner_func():\\n        print('내부 함수 내부 namespace', locals())\\n    inner_func()\\n\\nfunc()\", \"a = 3\\nc = 'Hello'\\n\\ndef func():\\n    a = 100\\n    b = 'python'\\n    print('외부 함수 내부 namespace', locals())\\n    def inner_func():\\n        print('내부 함수 내부 namespace', locals())\\n    inner_func()\\n\\nfunc()\\n# 함수 안의 함수도 아예 다른 namespace를 가지고 있다.\", 'def func():\\n    a = 3\\n\\nprint(a)', 'def func():\\n    k = 3\\n\\nprint(k)', 'def func():\\n    k = 3\\n\\nprint(k)\\n# local 네임스페이스를 global에서 참조할 수 없다.', \"p = 100\\n\\ndef func():\\n    def inner():\\n        b = 'python'\\n    inner()\\n    print(a)\\n    print(b)\\n\\nfunc()\", \"p = 100\\n\\ndef func():\\n    def inner():\\n        b = 'python'\\n    inner()\\n    print(p)\\n    print(b)\\n\\nfunc()\", 'number_1, number_2 = 1', \"a = 'fastcampus'\\n\\ndef func1():\\n    b = 'python'\\n    def func2():\\n        print(a)\\n        print(b)\\n    func2()\\n\\nfunc1()\", \"a = 'fastcampus' #함수는 상위함수, globals의 namespace 참조 가능\\n\\ndef func1():\\n    b = 'python'\\n    def func2():\\n        print(a)\\n        print(b)\\n    func2()\\n\\nfunc1()\", \"a = 'python'\\n\\ndef func():\\n    a = 3\\n\\nfunc()\\n\\nprint(a)\", 'import this', 'print(\"hello, world!\")', '10+20', 'a = 10 + 20', 'print(a)', \"#엑샐 불러오기 pandas.read_csv('파일경로')\\nimport pandas as pd\\nc = pd.read_csv('/content/drive/MyDrive/Colab Notebooks/머신러닝의 이해/iris.csv')\\nc\", 'a = 3\\nprint(globals())'], 'Out': {7: ['False', 'None', 'True', 'and', 'as', 'assert', 'async', 'await', 'break', 'class', 'continue', 'def', 'del', 'elif', 'else', 'except', 'finally', 'for', 'from', 'global', 'if', 'import', 'in', 'is', 'lambda', 'nonlocal', 'not', 'or', 'pass', 'raise', 'return', 'try', 'while', 'with', 'yield'], 23: 30, 26:      sepal.length  sepal.width  petal.length  petal.width    variety\n",
            "0             5.1          3.5           1.4          0.2     Setosa\n",
            "1             4.9          3.0           1.4          0.2     Setosa\n",
            "2             4.7          3.2           1.3          0.2     Setosa\n",
            "3             4.6          3.1           1.5          0.2     Setosa\n",
            "4             5.0          3.6           1.4          0.2     Setosa\n",
            "..            ...          ...           ...          ...        ...\n",
            "145           6.7          3.0           5.2          2.3  Virginica\n",
            "146           6.3          2.5           5.0          1.9  Virginica\n",
            "147           6.5          3.0           5.2          2.0  Virginica\n",
            "148           6.2          3.4           5.4          2.3  Virginica\n",
            "149           5.9          3.0           5.1          1.8  Virginica\n",
            "\n",
            "[150 rows x 5 columns]}, 'get_ipython': <bound method InteractiveShell.get_ipython of <google.colab._shell.Shell object at 0x7efc68b55290>>, 'exit': <IPython.core.autocall.ZMQExitAutocall object at 0x7efc68b74690>, 'quit': <IPython.core.autocall.ZMQExitAutocall object at 0x7efc68b74690>, '_':      sepal.length  sepal.width  petal.length  petal.width    variety\n",
            "0             5.1          3.5           1.4          0.2     Setosa\n",
            "1             4.9          3.0           1.4          0.2     Setosa\n",
            "2             4.7          3.2           1.3          0.2     Setosa\n",
            "3             4.6          3.1           1.5          0.2     Setosa\n",
            "4             5.0          3.6           1.4          0.2     Setosa\n",
            "..            ...          ...           ...          ...        ...\n",
            "145           6.7          3.0           5.2          2.3  Virginica\n",
            "146           6.3          2.5           5.0          1.9  Virginica\n",
            "147           6.5          3.0           5.2          2.0  Virginica\n",
            "148           6.2          3.4           5.4          2.3  Virginica\n",
            "149           5.9          3.0           5.1          1.8  Virginica\n",
            "\n",
            "[150 rows x 5 columns], '__': 30, '___': ['False', 'None', 'True', 'and', 'as', 'assert', 'async', 'await', 'break', 'class', 'continue', 'def', 'del', 'elif', 'else', 'except', 'finally', 'for', 'from', 'global', 'if', 'import', 'in', 'is', 'lambda', 'nonlocal', 'not', 'or', 'pass', 'raise', 'return', 'try', 'while', 'with', 'yield'], '_i': \"#엑샐 불러오기 pandas.read_csv('파일경로')\\nimport pandas as pd\\nc = pd.read_csv('/content/drive/MyDrive/Colab Notebooks/머신러닝의 이해/iris.csv')\\nc\", '_ii': 'print(a)', '_iii': 'a = 10 + 20', '_i1': 'a = 3\\nprint(globals())', 'a': 3, '_i2': 'a = 3\\nprint(globals())', '_i3': \"def func():\\n    a = 100\\n    b = 'python'\\n\\nfunc()\\nprint(globals())\", 'func': <function func at 0x7efc59c96680>, '_i4': \"def func():\\n    a = 100\\n    b = 'python'\\n\\nfunc()\\nprint(globals())\\n# 함수는 함수만의 별도 namespacae를 가진다.\", '_i5': \"a = 3\\nc = 'Hello'\\n\\ndef func():\\n    a = 100\\n    b = 'python'\\n    print('함수 내부 namespace', locals())\\n\\nfunc()\", 'c':      sepal.length  sepal.width  petal.length  petal.width    variety\n",
            "0             5.1          3.5           1.4          0.2     Setosa\n",
            "1             4.9          3.0           1.4          0.2     Setosa\n",
            "2             4.7          3.2           1.3          0.2     Setosa\n",
            "3             4.6          3.1           1.5          0.2     Setosa\n",
            "4             5.0          3.6           1.4          0.2     Setosa\n",
            "..            ...          ...           ...          ...        ...\n",
            "145           6.7          3.0           5.2          2.3  Virginica\n",
            "146           6.3          2.5           5.0          1.9  Virginica\n",
            "147           6.5          3.0           5.2          2.0  Virginica\n",
            "148           6.2          3.4           5.4          2.3  Virginica\n",
            "149           5.9          3.0           5.1          1.8  Virginica\n",
            "\n",
            "[150 rows x 5 columns], '_i6': \"a = 3\\nc = 'Hello'\\n\\ndef func():\\n    a = 100\\n    b = 'python'\\n    print('함수 내부 namespace', locals())\\n\\n#함수 내 변수명과 할당 된 값을 딕셔너리 형태로 연결되어 있음.(key, value) \\n\\nfunc()\", '_i7': 'import keyword\\nkeyword.kwlist', 'keyword': <module 'keyword' from '/usr/lib/python3.7/keyword.py'>, '_7': ['False', 'None', 'True', 'and', 'as', 'assert', 'async', 'await', 'break', 'class', 'continue', 'def', 'del', 'elif', 'else', 'except', 'finally', 'for', 'from', 'global', 'if', 'import', 'in', 'is', 'lambda', 'nonlocal', 'not', 'or', 'pass', 'raise', 'return', 'try', 'while', 'with', 'yield'], '_i8': 'False = \\n#지정단어를 변수로 사용하고자 할 때, 파란글씨로 나오므로 주의하자. ', '_i9': 'False = 1\\n#지정단어를 변수로 사용하고자 할 때, 파란글씨로 나오므로 주의하자. ', '_i10': \"a = 3\\nc = 'Hello'\\n\\ndef func():\\n    a = 100\\n    b = 'python'\\n    print('외부 함수 내부 namespace', locals())\\n    def inner_func():\\n        print('내부 함수 내부 namespace', locals())\\n    inner_func()\\n\\nfunc()\", '_i11': \"a = 3\\nc = 'Hello'\\n\\ndef func():\\n    a = 100\\n    b = 'python'\\n    print('외부 함수 내부 namespace', locals())\\n    def inner_func():\\n        print('내부 함수 내부 namespace', locals())\\n    inner_func()\\n\\nfunc()\\n# 함수 안의 함수도 아예 다른 namespace를 가지고 있다.\", '_i12': 'def func():\\n    a = 3\\n\\nprint(a)', '_i13': 'def func():\\n    k = 3\\n\\nprint(k)', '_i14': 'def func():\\n    k = 3\\n\\nprint(k)\\n# local 네임스페이스를 global에서 참조할 수 없다.', '_i15': \"p = 100\\n\\ndef func():\\n    def inner():\\n        b = 'python'\\n    inner()\\n    print(a)\\n    print(b)\\n\\nfunc()\", 'p': 100, '_i16': \"p = 100\\n\\ndef func():\\n    def inner():\\n        b = 'python'\\n    inner()\\n    print(p)\\n    print(b)\\n\\nfunc()\", '_i17': 'number_1, number_2 = 1', '_i18': \"a = 'fastcampus'\\n\\ndef func1():\\n    b = 'python'\\n    def func2():\\n        print(a)\\n        print(b)\\n    func2()\\n\\nfunc1()\", 'func1': <function func1 at 0x7efc5b754d40>, '_i19': \"a = 'fastcampus' #함수는 상위함수, globals의 namespace 참조 가능\\n\\ndef func1():\\n    b = 'python'\\n    def func2():\\n        print(a)\\n        print(b)\\n    func2()\\n\\nfunc1()\", '_i20': \"a = 'python'\\n\\ndef func():\\n    a = 3\\n\\nfunc()\\n\\nprint(a)\", '_i21': 'import this', 'this': <module 'this' from '/usr/lib/python3.7/this.py'>, '_i22': 'print(\"hello, world!\")', '_i23': '10+20', '_23': 30, '_i24': 'a = 10 + 20', '_i25': 'print(a)', '_i26': \"#엑샐 불러오기 pandas.read_csv('파일경로')\\nimport pandas as pd\\nc = pd.read_csv('/content/drive/MyDrive/Colab Notebooks/머신러닝의 이해/iris.csv')\\nc\", 'pd': <module 'pandas' from '/usr/local/lib/python3.7/dist-packages/pandas/__init__.py'>, '_26':      sepal.length  sepal.width  petal.length  petal.width    variety\n",
            "0             5.1          3.5           1.4          0.2     Setosa\n",
            "1             4.9          3.0           1.4          0.2     Setosa\n",
            "2             4.7          3.2           1.3          0.2     Setosa\n",
            "3             4.6          3.1           1.5          0.2     Setosa\n",
            "4             5.0          3.6           1.4          0.2     Setosa\n",
            "..            ...          ...           ...          ...        ...\n",
            "145           6.7          3.0           5.2          2.3  Virginica\n",
            "146           6.3          2.5           5.0          1.9  Virginica\n",
            "147           6.5          3.0           5.2          2.0  Virginica\n",
            "148           6.2          3.4           5.4          2.3  Virginica\n",
            "149           5.9          3.0           5.1          1.8  Virginica\n",
            "\n",
            "[150 rows x 5 columns], '_i27': 'a = 3\\nprint(globals())'}\n"
          ]
        }
      ]
    },
    {
      "cell_type": "code",
      "source": [
        "def func():\n",
        "    a = 100\n",
        "    b = 'python'\n",
        "\n",
        "func()\n",
        "print(globals())\n",
        "# 함수는 함수만의 별도 namespacae를 가진다.\n"
      ],
      "metadata": {
        "colab": {
          "base_uri": "https://localhost:8080/"
        },
        "id": "x_NZCLx4Pirw",
        "outputId": "04cd740e-221d-4726-a71d-199c1ff01e51"
      },
      "execution_count": null,
      "outputs": [
        {
          "output_type": "stream",
          "name": "stdout",
          "text": [
            "{'__name__': '__main__', '__doc__': 'Automatically created module for IPython interactive environment', '__package__': None, '__loader__': None, '__spec__': None, '__builtin__': <module 'builtins' (built-in)>, '__builtins__': <module 'builtins' (built-in)>, '_ih': ['', 'a = 3\\nprint(globals())', 'a = 3\\nprint(globals())', \"def func():\\n    a = 100\\n    b = 'python'\\n\\nfunc()\\nprint(globals())\", \"def func():\\n    a = 100\\n    b = 'python'\\n\\nfunc()\\nprint(globals())\\n# 함수는 함수만의 별도 namespacae를 가진다.\", \"a = 3\\nc = 'Hello'\\n\\ndef func():\\n    a = 100\\n    b = 'python'\\n    print('함수 내부 namespace', locals())\\n\\nfunc()\", \"a = 3\\nc = 'Hello'\\n\\ndef func():\\n    a = 100\\n    b = 'python'\\n    print('함수 내부 namespace', locals())\\n\\n#함수 내 변수명과 할당 된 값을 딕셔너리 형태로 연결되어 있음.(key, value) \\n\\nfunc()\", 'import keyword\\nkeyword.kwlist', 'False = \\n#지정단어를 변수로 사용하고자 할 때, 파란글씨로 나오므로 주의하자. ', 'False = 1\\n#지정단어를 변수로 사용하고자 할 때, 파란글씨로 나오므로 주의하자. ', \"a = 3\\nc = 'Hello'\\n\\ndef func():\\n    a = 100\\n    b = 'python'\\n    print('외부 함수 내부 namespace', locals())\\n    def inner_func():\\n        print('내부 함수 내부 namespace', locals())\\n    inner_func()\\n\\nfunc()\", \"a = 3\\nc = 'Hello'\\n\\ndef func():\\n    a = 100\\n    b = 'python'\\n    print('외부 함수 내부 namespace', locals())\\n    def inner_func():\\n        print('내부 함수 내부 namespace', locals())\\n    inner_func()\\n\\nfunc()\\n# 함수 안의 함수도 아예 다른 namespace를 가지고 있다.\", 'def func():\\n    a = 3\\n\\nprint(a)', 'def func():\\n    k = 3\\n\\nprint(k)', 'def func():\\n    k = 3\\n\\nprint(k)\\n# local 네임스페이스를 global에서 참조할 수 없다.', \"p = 100\\n\\ndef func():\\n    def inner():\\n        b = 'python'\\n    inner()\\n    print(a)\\n    print(b)\\n\\nfunc()\", \"p = 100\\n\\ndef func():\\n    def inner():\\n        b = 'python'\\n    inner()\\n    print(p)\\n    print(b)\\n\\nfunc()\", 'number_1, number_2 = 1', \"a = 'fastcampus'\\n\\ndef func1():\\n    b = 'python'\\n    def func2():\\n        print(a)\\n        print(b)\\n    func2()\\n\\nfunc1()\", \"a = 'fastcampus' #함수는 상위함수, globals의 namespace 참조 가능\\n\\ndef func1():\\n    b = 'python'\\n    def func2():\\n        print(a)\\n        print(b)\\n    func2()\\n\\nfunc1()\", \"a = 'python'\\n\\ndef func():\\n    a = 3\\n\\nfunc()\\n\\nprint(a)\", 'import this', 'print(\"hello, world!\")', '10+20', 'a = 10 + 20', 'print(a)', \"#엑샐 불러오기 pandas.read_csv('파일경로')\\nimport pandas as pd\\nc = pd.read_csv('/content/drive/MyDrive/Colab Notebooks/머신러닝의 이해/iris.csv')\\nc\", 'a = 3\\nprint(globals())', \"def func():\\n    a = 100\\n    b = 'python'\\n\\nfunc()\\nprint(globals())\\n# 함수는 함수만의 별도 namespacae를 가진다.\"], '_oh': {7: ['False', 'None', 'True', 'and', 'as', 'assert', 'async', 'await', 'break', 'class', 'continue', 'def', 'del', 'elif', 'else', 'except', 'finally', 'for', 'from', 'global', 'if', 'import', 'in', 'is', 'lambda', 'nonlocal', 'not', 'or', 'pass', 'raise', 'return', 'try', 'while', 'with', 'yield'], 23: 30, 26:      sepal.length  sepal.width  petal.length  petal.width    variety\n",
            "0             5.1          3.5           1.4          0.2     Setosa\n",
            "1             4.9          3.0           1.4          0.2     Setosa\n",
            "2             4.7          3.2           1.3          0.2     Setosa\n",
            "3             4.6          3.1           1.5          0.2     Setosa\n",
            "4             5.0          3.6           1.4          0.2     Setosa\n",
            "..            ...          ...           ...          ...        ...\n",
            "145           6.7          3.0           5.2          2.3  Virginica\n",
            "146           6.3          2.5           5.0          1.9  Virginica\n",
            "147           6.5          3.0           5.2          2.0  Virginica\n",
            "148           6.2          3.4           5.4          2.3  Virginica\n",
            "149           5.9          3.0           5.1          1.8  Virginica\n",
            "\n",
            "[150 rows x 5 columns]}, '_dh': ['/content'], '_sh': <module 'IPython.core.shadowns' from '/usr/local/lib/python3.7/dist-packages/IPython/core/shadowns.py'>, 'In': ['', 'a = 3\\nprint(globals())', 'a = 3\\nprint(globals())', \"def func():\\n    a = 100\\n    b = 'python'\\n\\nfunc()\\nprint(globals())\", \"def func():\\n    a = 100\\n    b = 'python'\\n\\nfunc()\\nprint(globals())\\n# 함수는 함수만의 별도 namespacae를 가진다.\", \"a = 3\\nc = 'Hello'\\n\\ndef func():\\n    a = 100\\n    b = 'python'\\n    print('함수 내부 namespace', locals())\\n\\nfunc()\", \"a = 3\\nc = 'Hello'\\n\\ndef func():\\n    a = 100\\n    b = 'python'\\n    print('함수 내부 namespace', locals())\\n\\n#함수 내 변수명과 할당 된 값을 딕셔너리 형태로 연결되어 있음.(key, value) \\n\\nfunc()\", 'import keyword\\nkeyword.kwlist', 'False = \\n#지정단어를 변수로 사용하고자 할 때, 파란글씨로 나오므로 주의하자. ', 'False = 1\\n#지정단어를 변수로 사용하고자 할 때, 파란글씨로 나오므로 주의하자. ', \"a = 3\\nc = 'Hello'\\n\\ndef func():\\n    a = 100\\n    b = 'python'\\n    print('외부 함수 내부 namespace', locals())\\n    def inner_func():\\n        print('내부 함수 내부 namespace', locals())\\n    inner_func()\\n\\nfunc()\", \"a = 3\\nc = 'Hello'\\n\\ndef func():\\n    a = 100\\n    b = 'python'\\n    print('외부 함수 내부 namespace', locals())\\n    def inner_func():\\n        print('내부 함수 내부 namespace', locals())\\n    inner_func()\\n\\nfunc()\\n# 함수 안의 함수도 아예 다른 namespace를 가지고 있다.\", 'def func():\\n    a = 3\\n\\nprint(a)', 'def func():\\n    k = 3\\n\\nprint(k)', 'def func():\\n    k = 3\\n\\nprint(k)\\n# local 네임스페이스를 global에서 참조할 수 없다.', \"p = 100\\n\\ndef func():\\n    def inner():\\n        b = 'python'\\n    inner()\\n    print(a)\\n    print(b)\\n\\nfunc()\", \"p = 100\\n\\ndef func():\\n    def inner():\\n        b = 'python'\\n    inner()\\n    print(p)\\n    print(b)\\n\\nfunc()\", 'number_1, number_2 = 1', \"a = 'fastcampus'\\n\\ndef func1():\\n    b = 'python'\\n    def func2():\\n        print(a)\\n        print(b)\\n    func2()\\n\\nfunc1()\", \"a = 'fastcampus' #함수는 상위함수, globals의 namespace 참조 가능\\n\\ndef func1():\\n    b = 'python'\\n    def func2():\\n        print(a)\\n        print(b)\\n    func2()\\n\\nfunc1()\", \"a = 'python'\\n\\ndef func():\\n    a = 3\\n\\nfunc()\\n\\nprint(a)\", 'import this', 'print(\"hello, world!\")', '10+20', 'a = 10 + 20', 'print(a)', \"#엑샐 불러오기 pandas.read_csv('파일경로')\\nimport pandas as pd\\nc = pd.read_csv('/content/drive/MyDrive/Colab Notebooks/머신러닝의 이해/iris.csv')\\nc\", 'a = 3\\nprint(globals())', \"def func():\\n    a = 100\\n    b = 'python'\\n\\nfunc()\\nprint(globals())\\n# 함수는 함수만의 별도 namespacae를 가진다.\"], 'Out': {7: ['False', 'None', 'True', 'and', 'as', 'assert', 'async', 'await', 'break', 'class', 'continue', 'def', 'del', 'elif', 'else', 'except', 'finally', 'for', 'from', 'global', 'if', 'import', 'in', 'is', 'lambda', 'nonlocal', 'not', 'or', 'pass', 'raise', 'return', 'try', 'while', 'with', 'yield'], 23: 30, 26:      sepal.length  sepal.width  petal.length  petal.width    variety\n",
            "0             5.1          3.5           1.4          0.2     Setosa\n",
            "1             4.9          3.0           1.4          0.2     Setosa\n",
            "2             4.7          3.2           1.3          0.2     Setosa\n",
            "3             4.6          3.1           1.5          0.2     Setosa\n",
            "4             5.0          3.6           1.4          0.2     Setosa\n",
            "..            ...          ...           ...          ...        ...\n",
            "145           6.7          3.0           5.2          2.3  Virginica\n",
            "146           6.3          2.5           5.0          1.9  Virginica\n",
            "147           6.5          3.0           5.2          2.0  Virginica\n",
            "148           6.2          3.4           5.4          2.3  Virginica\n",
            "149           5.9          3.0           5.1          1.8  Virginica\n",
            "\n",
            "[150 rows x 5 columns]}, 'get_ipython': <bound method InteractiveShell.get_ipython of <google.colab._shell.Shell object at 0x7efc68b55290>>, 'exit': <IPython.core.autocall.ZMQExitAutocall object at 0x7efc68b74690>, 'quit': <IPython.core.autocall.ZMQExitAutocall object at 0x7efc68b74690>, '_':      sepal.length  sepal.width  petal.length  petal.width    variety\n",
            "0             5.1          3.5           1.4          0.2     Setosa\n",
            "1             4.9          3.0           1.4          0.2     Setosa\n",
            "2             4.7          3.2           1.3          0.2     Setosa\n",
            "3             4.6          3.1           1.5          0.2     Setosa\n",
            "4             5.0          3.6           1.4          0.2     Setosa\n",
            "..            ...          ...           ...          ...        ...\n",
            "145           6.7          3.0           5.2          2.3  Virginica\n",
            "146           6.3          2.5           5.0          1.9  Virginica\n",
            "147           6.5          3.0           5.2          2.0  Virginica\n",
            "148           6.2          3.4           5.4          2.3  Virginica\n",
            "149           5.9          3.0           5.1          1.8  Virginica\n",
            "\n",
            "[150 rows x 5 columns], '__': 30, '___': ['False', 'None', 'True', 'and', 'as', 'assert', 'async', 'await', 'break', 'class', 'continue', 'def', 'del', 'elif', 'else', 'except', 'finally', 'for', 'from', 'global', 'if', 'import', 'in', 'is', 'lambda', 'nonlocal', 'not', 'or', 'pass', 'raise', 'return', 'try', 'while', 'with', 'yield'], '_i': 'a = 3\\nprint(globals())', '_ii': \"#엑샐 불러오기 pandas.read_csv('파일경로')\\nimport pandas as pd\\nc = pd.read_csv('/content/drive/MyDrive/Colab Notebooks/머신러닝의 이해/iris.csv')\\nc\", '_iii': 'print(a)', '_i1': 'a = 3\\nprint(globals())', 'a': 3, '_i2': 'a = 3\\nprint(globals())', '_i3': \"def func():\\n    a = 100\\n    b = 'python'\\n\\nfunc()\\nprint(globals())\", 'func': <function func at 0x7efc54115dd0>, '_i4': \"def func():\\n    a = 100\\n    b = 'python'\\n\\nfunc()\\nprint(globals())\\n# 함수는 함수만의 별도 namespacae를 가진다.\", '_i5': \"a = 3\\nc = 'Hello'\\n\\ndef func():\\n    a = 100\\n    b = 'python'\\n    print('함수 내부 namespace', locals())\\n\\nfunc()\", 'c':      sepal.length  sepal.width  petal.length  petal.width    variety\n",
            "0             5.1          3.5           1.4          0.2     Setosa\n",
            "1             4.9          3.0           1.4          0.2     Setosa\n",
            "2             4.7          3.2           1.3          0.2     Setosa\n",
            "3             4.6          3.1           1.5          0.2     Setosa\n",
            "4             5.0          3.6           1.4          0.2     Setosa\n",
            "..            ...          ...           ...          ...        ...\n",
            "145           6.7          3.0           5.2          2.3  Virginica\n",
            "146           6.3          2.5           5.0          1.9  Virginica\n",
            "147           6.5          3.0           5.2          2.0  Virginica\n",
            "148           6.2          3.4           5.4          2.3  Virginica\n",
            "149           5.9          3.0           5.1          1.8  Virginica\n",
            "\n",
            "[150 rows x 5 columns], '_i6': \"a = 3\\nc = 'Hello'\\n\\ndef func():\\n    a = 100\\n    b = 'python'\\n    print('함수 내부 namespace', locals())\\n\\n#함수 내 변수명과 할당 된 값을 딕셔너리 형태로 연결되어 있음.(key, value) \\n\\nfunc()\", '_i7': 'import keyword\\nkeyword.kwlist', 'keyword': <module 'keyword' from '/usr/lib/python3.7/keyword.py'>, '_7': ['False', 'None', 'True', 'and', 'as', 'assert', 'async', 'await', 'break', 'class', 'continue', 'def', 'del', 'elif', 'else', 'except', 'finally', 'for', 'from', 'global', 'if', 'import', 'in', 'is', 'lambda', 'nonlocal', 'not', 'or', 'pass', 'raise', 'return', 'try', 'while', 'with', 'yield'], '_i8': 'False = \\n#지정단어를 변수로 사용하고자 할 때, 파란글씨로 나오므로 주의하자. ', '_i9': 'False = 1\\n#지정단어를 변수로 사용하고자 할 때, 파란글씨로 나오므로 주의하자. ', '_i10': \"a = 3\\nc = 'Hello'\\n\\ndef func():\\n    a = 100\\n    b = 'python'\\n    print('외부 함수 내부 namespace', locals())\\n    def inner_func():\\n        print('내부 함수 내부 namespace', locals())\\n    inner_func()\\n\\nfunc()\", '_i11': \"a = 3\\nc = 'Hello'\\n\\ndef func():\\n    a = 100\\n    b = 'python'\\n    print('외부 함수 내부 namespace', locals())\\n    def inner_func():\\n        print('내부 함수 내부 namespace', locals())\\n    inner_func()\\n\\nfunc()\\n# 함수 안의 함수도 아예 다른 namespace를 가지고 있다.\", '_i12': 'def func():\\n    a = 3\\n\\nprint(a)', '_i13': 'def func():\\n    k = 3\\n\\nprint(k)', '_i14': 'def func():\\n    k = 3\\n\\nprint(k)\\n# local 네임스페이스를 global에서 참조할 수 없다.', '_i15': \"p = 100\\n\\ndef func():\\n    def inner():\\n        b = 'python'\\n    inner()\\n    print(a)\\n    print(b)\\n\\nfunc()\", 'p': 100, '_i16': \"p = 100\\n\\ndef func():\\n    def inner():\\n        b = 'python'\\n    inner()\\n    print(p)\\n    print(b)\\n\\nfunc()\", '_i17': 'number_1, number_2 = 1', '_i18': \"a = 'fastcampus'\\n\\ndef func1():\\n    b = 'python'\\n    def func2():\\n        print(a)\\n        print(b)\\n    func2()\\n\\nfunc1()\", 'func1': <function func1 at 0x7efc5b754d40>, '_i19': \"a = 'fastcampus' #함수는 상위함수, globals의 namespace 참조 가능\\n\\ndef func1():\\n    b = 'python'\\n    def func2():\\n        print(a)\\n        print(b)\\n    func2()\\n\\nfunc1()\", '_i20': \"a = 'python'\\n\\ndef func():\\n    a = 3\\n\\nfunc()\\n\\nprint(a)\", '_i21': 'import this', 'this': <module 'this' from '/usr/lib/python3.7/this.py'>, '_i22': 'print(\"hello, world!\")', '_i23': '10+20', '_23': 30, '_i24': 'a = 10 + 20', '_i25': 'print(a)', '_i26': \"#엑샐 불러오기 pandas.read_csv('파일경로')\\nimport pandas as pd\\nc = pd.read_csv('/content/drive/MyDrive/Colab Notebooks/머신러닝의 이해/iris.csv')\\nc\", 'pd': <module 'pandas' from '/usr/local/lib/python3.7/dist-packages/pandas/__init__.py'>, '_26':      sepal.length  sepal.width  petal.length  petal.width    variety\n",
            "0             5.1          3.5           1.4          0.2     Setosa\n",
            "1             4.9          3.0           1.4          0.2     Setosa\n",
            "2             4.7          3.2           1.3          0.2     Setosa\n",
            "3             4.6          3.1           1.5          0.2     Setosa\n",
            "4             5.0          3.6           1.4          0.2     Setosa\n",
            "..            ...          ...           ...          ...        ...\n",
            "145           6.7          3.0           5.2          2.3  Virginica\n",
            "146           6.3          2.5           5.0          1.9  Virginica\n",
            "147           6.5          3.0           5.2          2.0  Virginica\n",
            "148           6.2          3.4           5.4          2.3  Virginica\n",
            "149           5.9          3.0           5.1          1.8  Virginica\n",
            "\n",
            "[150 rows x 5 columns], '_i27': 'a = 3\\nprint(globals())', '_i28': \"def func():\\n    a = 100\\n    b = 'python'\\n\\nfunc()\\nprint(globals())\\n# 함수는 함수만의 별도 namespacae를 가진다.\"}\n"
          ]
        }
      ]
    },
    {
      "cell_type": "code",
      "source": [
        "a = 3\n",
        "c = 'Hello'\n",
        "\n",
        "def func():\n",
        "    a = 100\n",
        "    b = 'python'\n",
        "    print('함수 내부 namespace', locals())\n",
        "\n",
        "#함수 내 변수명과 할당 된 값을 딕셔너리 형태로 연결되어 있음.(key, value) \n",
        "\n",
        "func()"
      ],
      "metadata": {
        "colab": {
          "base_uri": "https://localhost:8080/"
        },
        "id": "rWz6wYntP0W4",
        "outputId": "f718038d-51d2-41ff-d28f-364b18545575"
      },
      "execution_count": null,
      "outputs": [
        {
          "output_type": "stream",
          "name": "stdout",
          "text": [
            "함수 내부 namespace {'a': 100, 'b': 'python'}\n"
          ]
        }
      ]
    },
    {
      "cell_type": "code",
      "source": [
        "a = 3\n",
        "c = 'Hello'\n",
        "\n",
        "def func():\n",
        "    a = 100\n",
        "    b = 'python'\n",
        "    print('외부 함수 내부 namespace', locals())\n",
        "    def inner_func():\n",
        "        print('내부 함수 내부 namespace', locals())\n",
        "    inner_func()\n",
        "\n",
        "func()\n",
        "# 함수 안의 함수도 아예 다른 namespace를 가지고 있다.\n"
      ],
      "metadata": {
        "colab": {
          "base_uri": "https://localhost:8080/"
        },
        "id": "hxrxAabeQev7",
        "outputId": "22cc6e43-4f4f-47e6-ace9-38a9e11f3b8e"
      },
      "execution_count": null,
      "outputs": [
        {
          "output_type": "stream",
          "name": "stdout",
          "text": [
            "외부 함수 내부 namespace {'a': 100, 'b': 'python'}\n",
            "내부 함수 내부 namespace {}\n"
          ]
        }
      ]
    },
    {
      "cell_type": "code",
      "source": [
        "def func():\n",
        "    k = 3\n",
        "\n",
        "print(k)\n",
        "# local 네임스페이스를 global에서 참조할 수 없다."
      ],
      "metadata": {
        "colab": {
          "base_uri": "https://localhost:8080/",
          "height": 232
        },
        "id": "TQqYcP9dRwqT",
        "outputId": "db00464f-4109-4740-eb03-526b262c4f69"
      },
      "execution_count": null,
      "outputs": [
        {
          "output_type": "error",
          "ename": "NameError",
          "evalue": "ignored",
          "traceback": [
            "\u001b[0;31m---------------------------------------------------------------------------\u001b[0m",
            "\u001b[0;31mNameError\u001b[0m                                 Traceback (most recent call last)",
            "\u001b[0;32m<ipython-input-31-0a396955be69>\u001b[0m in \u001b[0;36m<module>\u001b[0;34m()\u001b[0m\n\u001b[1;32m      2\u001b[0m     \u001b[0mk\u001b[0m \u001b[0;34m=\u001b[0m \u001b[0;36m3\u001b[0m\u001b[0;34m\u001b[0m\u001b[0;34m\u001b[0m\u001b[0m\n\u001b[1;32m      3\u001b[0m \u001b[0;34m\u001b[0m\u001b[0m\n\u001b[0;32m----> 4\u001b[0;31m \u001b[0mprint\u001b[0m\u001b[0;34m(\u001b[0m\u001b[0mk\u001b[0m\u001b[0;34m)\u001b[0m\u001b[0;34m\u001b[0m\u001b[0;34m\u001b[0m\u001b[0m\n\u001b[0m\u001b[1;32m      5\u001b[0m \u001b[0;31m# local 네임스페이스를 global에서 참조할 수 없다.\u001b[0m\u001b[0;34m\u001b[0m\u001b[0;34m\u001b[0m\u001b[0;34m\u001b[0m\u001b[0m\n",
            "\u001b[0;31mNameError\u001b[0m: name 'k' is not defined"
          ]
        }
      ]
    },
    {
      "cell_type": "code",
      "source": [
        "# 함수는 globals의 변수를 참조할 수 있다.\n",
        "p = 100\n",
        "\n",
        "def func():\n",
        "    def inner():\n",
        "        b = 'python'\n",
        "    inner()\n",
        "    print(p)\n",
        "    print(b) # 함수는 다른 namespace 참조 불가\n",
        "\n",
        "func()"
      ],
      "metadata": {
        "id": "0UZMdl97SVyx"
      },
      "execution_count": null,
      "outputs": []
    },
    {
      "cell_type": "markdown",
      "source": [
        "![image.png](data:image/png;base64,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)"
      ],
      "metadata": {
        "id": "XUOGveDSTP3c"
      }
    },
    {
      "cell_type": "code",
      "source": [
        "a = 'fastcampus' #함수는 상위함수, globals의 namespace 참조 가능\n",
        "\n",
        "def func1():\n",
        "    b = 'python'\n",
        "    def func2():\n",
        "        print(a)\n",
        "        print(b)\n",
        "    func2()\n",
        "\n",
        "func1()"
      ],
      "metadata": {
        "id": "Z645oc7-TTb2"
      },
      "execution_count": null,
      "outputs": []
    },
    {
      "cell_type": "code",
      "source": [
        "a = 'python'\n",
        "\n",
        "def func():\n",
        "    a = 3\n",
        "\n",
        "func()\n",
        "\n",
        "print(a)"
      ],
      "metadata": {
        "id": "-1uo9YJ-Ta2v"
      },
      "execution_count": null,
      "outputs": []
    },
    {
      "cell_type": "code",
      "source": [
        "def square(n):\n",
        "    result = n**2\n",
        "    return result\n",
        "\n",
        "lines = [4, 3, 9, 8]\n",
        "result = 0\n",
        "for line in lines:\n",
        "    area = square(line) \n",
        "    if area>result: # 64<81이므로 False임. result는 81로 남는다.\n",
        "        result = area\n",
        "\n",
        "print(result)"
      ],
      "metadata": {
        "colab": {
          "base_uri": "https://localhost:8080/"
        },
        "id": "baKNtNK-aZLW",
        "outputId": "d5e0af2c-241a-4085-a6ce-cb8db33686db"
      },
      "execution_count": null,
      "outputs": [
        {
          "output_type": "stream",
          "name": "stdout",
          "text": [
            "81\n"
          ]
        }
      ]
    },
    {
      "cell_type": "code",
      "source": [
        "# 함수에서 외부의 변수이름과 동일한 변수를 만듦\n",
        "lang = 'jython'\n",
        "\n",
        "def func():\n",
        "    lang = 'python'\n",
        "    print(lang)\n",
        "\n",
        "func()\n",
        "print(lang)"
      ],
      "metadata": {
        "colab": {
          "base_uri": "https://localhost:8080/"
        },
        "id": "F10HacQ2bHME",
        "outputId": "38e0b3b8-bf5a-45d7-ccf7-26ca6e304a4d"
      },
      "execution_count": null,
      "outputs": [
        {
          "output_type": "stream",
          "name": "stdout",
          "text": [
            "python\n",
            "jython\n"
          ]
        }
      ]
    },
    {
      "cell_type": "code",
      "source": [
        "lang = 'jython'\n",
        "\n",
        "def func():\n",
        "    global lang #외부의 변수를 변경하는 방법. 함수에서는 global(), 함수의 함수에서는 nonlocal()\n",
        "    lang = 'python'\n",
        "    print(lang)\n",
        "\n",
        "func()\n",
        "print(lang)"
      ],
      "metadata": {
        "colab": {
          "base_uri": "https://localhost:8080/"
        },
        "id": "XkinDZxZbYZU",
        "outputId": "733d8b3f-2961-4af7-c24c-4d188fab1bcd"
      },
      "execution_count": null,
      "outputs": [
        {
          "output_type": "stream",
          "name": "stdout",
          "text": [
            "python\n",
            "python\n"
          ]
        }
      ]
    },
    {
      "cell_type": "code",
      "source": [
        "def func():\n",
        "    var = 1\n",
        "    def func2():\n",
        "        nonlocal var # global로 선언해주면 var 변경불가\n",
        "        var = 3\n",
        "    func2()\n",
        "    print(var)\n",
        "\n",
        "func()"
      ],
      "metadata": {
        "colab": {
          "base_uri": "https://localhost:8080/"
        },
        "id": "LZfACO4dbNlU",
        "outputId": "d580ca52-91fe-4de4-922a-4000713cb2ca"
      },
      "execution_count": null,
      "outputs": [
        {
          "output_type": "stream",
          "name": "stdout",
          "text": [
            "3\n"
          ]
        }
      ]
    },
    {
      "cell_type": "code",
      "source": [
        "# 한 번에 여러 변수에 할당 시 변수와 값의 개수가 일치해야 한다.\n",
        "number_1, number_2 = 1"
      ],
      "metadata": {
        "colab": {
          "base_uri": "https://localhost:8080/",
          "height": 195
        },
        "id": "7EX5i2XSSuiQ",
        "outputId": "a9523ef8-4729-4638-b875-2c32e0970e85"
      },
      "execution_count": null,
      "outputs": [
        {
          "output_type": "error",
          "ename": "TypeError",
          "evalue": "ignored",
          "traceback": [
            "\u001b[0;31m---------------------------------------------------------------------------\u001b[0m",
            "\u001b[0;31mTypeError\u001b[0m                                 Traceback (most recent call last)",
            "\u001b[0;32m<ipython-input-45-f33da1007ac9>\u001b[0m in \u001b[0;36m<module>\u001b[0;34m()\u001b[0m\n\u001b[1;32m      1\u001b[0m \u001b[0;31m# 한 번에 여러 변수에 할당 시 변수와 값의 개수가 일치해야 한다.\u001b[0m\u001b[0;34m\u001b[0m\u001b[0;34m\u001b[0m\u001b[0;34m\u001b[0m\u001b[0m\n\u001b[0;32m----> 2\u001b[0;31m \u001b[0mnumber_1\u001b[0m\u001b[0;34m,\u001b[0m \u001b[0mnumber_2\u001b[0m \u001b[0;34m=\u001b[0m \u001b[0;36m1\u001b[0m\u001b[0;34m\u001b[0m\u001b[0;34m\u001b[0m\u001b[0m\n\u001b[0m",
            "\u001b[0;31mTypeError\u001b[0m: cannot unpack non-iterable int object"
          ]
        }
      ]
    },
    {
      "cell_type": "code",
      "source": [
        ""
      ],
      "metadata": {
        "id": "Ff5LVgWBSeBS"
      },
      "execution_count": null,
      "outputs": []
    },
    {
      "cell_type": "markdown",
      "source": [
        "# 파이썬의 지정(예약) 단어"
      ],
      "metadata": {
        "id": "C3XoGhaHRC20"
      }
    },
    {
      "cell_type": "code",
      "source": [
        "import keyword\n",
        "keyword.kwlist\n",
        "# 지정 단어 찾기"
      ],
      "metadata": {
        "colab": {
          "base_uri": "https://localhost:8080/"
        },
        "id": "gIlU2nVVQ5y1",
        "outputId": "8043d59d-155d-403c-ed06-eba1d9f28b50"
      },
      "execution_count": null,
      "outputs": [
        {
          "output_type": "execute_result",
          "data": {
            "text/plain": [
              "['False',\n",
              " 'None',\n",
              " 'True',\n",
              " 'and',\n",
              " 'as',\n",
              " 'assert',\n",
              " 'async',\n",
              " 'await',\n",
              " 'break',\n",
              " 'class',\n",
              " 'continue',\n",
              " 'def',\n",
              " 'del',\n",
              " 'elif',\n",
              " 'else',\n",
              " 'except',\n",
              " 'finally',\n",
              " 'for',\n",
              " 'from',\n",
              " 'global',\n",
              " 'if',\n",
              " 'import',\n",
              " 'in',\n",
              " 'is',\n",
              " 'lambda',\n",
              " 'nonlocal',\n",
              " 'not',\n",
              " 'or',\n",
              " 'pass',\n",
              " 'raise',\n",
              " 'return',\n",
              " 'try',\n",
              " 'while',\n",
              " 'with',\n",
              " 'yield']"
            ]
          },
          "metadata": {},
          "execution_count": 46
        }
      ]
    },
    {
      "cell_type": "code",
      "source": [
        "False = 1\n",
        "#지정단어를 변수로 사용하고자 할 때, 파란글씨로 나오므로 주의하자. "
      ],
      "metadata": {
        "colab": {
          "base_uri": "https://localhost:8080/",
          "height": 139
        },
        "id": "OZed_UpnRIqp",
        "outputId": "b413b946-e6de-413f-af9c-cdf3625f4960"
      },
      "execution_count": null,
      "outputs": [
        {
          "output_type": "error",
          "ename": "SyntaxError",
          "evalue": "ignored",
          "traceback": [
            "\u001b[0;36m  File \u001b[0;32m\"<ipython-input-47-b33a08147179>\"\u001b[0;36m, line \u001b[0;32m1\u001b[0m\n\u001b[0;31m    False = 1\u001b[0m\n\u001b[0m             ^\u001b[0m\n\u001b[0;31mSyntaxError\u001b[0m\u001b[0;31m:\u001b[0m can't assign to keyword\n"
          ]
        }
      ]
    },
    {
      "cell_type": "code",
      "source": [
        ""
      ],
      "metadata": {
        "id": "Zp36LiScRSJr"
      },
      "execution_count": null,
      "outputs": []
    }
  ]
}